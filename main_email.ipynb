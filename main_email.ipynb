{
 "cells": [
  {
   "cell_type": "markdown",
   "metadata": {},
   "source": [
    "### Installation of required components"
   ]
  },
  {
   "cell_type": "code",
   "execution_count": 1,
   "metadata": {},
   "outputs": [],
   "source": [
    "# %pip install spacy\n",
    "# !python -m spacy download pl_core_news_sm"
   ]
  },
  {
   "cell_type": "code",
   "execution_count": 16,
   "metadata": {},
   "outputs": [],
   "source": [
    "import pandas as pd\n",
    "import numpy as np\n",
    "import spacy\n",
    "import seaborn as sn\n",
    "import matplotlib.pyplot as plt\n",
    "from sklearn.model_selection import train_test_split\n",
    "from sklearn.feature_extraction.text import TfidfVectorizer\n",
    "from sklearn.feature_extraction.text import TfidfVectorizer\n",
    "from sklearn.naive_bayes import MultinomialNB\n",
    "from sklearn.metrics import accuracy_score\n",
    "from sklearn.metrics import confusion_matrix"
   ]
  },
  {
   "cell_type": "markdown",
   "metadata": {},
   "source": [
    "### Loading data and displaying examples"
   ]
  },
  {
   "cell_type": "code",
   "execution_count": 3,
   "metadata": {},
   "outputs": [
    {
     "name": "stdout",
     "output_type": "stream",
     "text": [
      "<class 'pandas.core.frame.DataFrame'>\n",
      "Int64Index: 797 entries, 0 to 799\n",
      "Data columns (total 3 columns):\n",
      " #   Column    Non-Null Count  Dtype   \n",
      "---  ------    --------------  -----   \n",
      " 0   category  797 non-null    category\n",
      " 1   message   797 non-null    object  \n",
      " 2   subject   797 non-null    object  \n",
      "dtypes: category(1), object(2)\n",
      "memory usage: 19.8+ KB\n"
     ]
    },
    {
     "data": {
      "text/html": [
       "<div>\n",
       "<style scoped>\n",
       "    .dataframe tbody tr th:only-of-type {\n",
       "        vertical-align: middle;\n",
       "    }\n",
       "\n",
       "    .dataframe tbody tr th {\n",
       "        vertical-align: top;\n",
       "    }\n",
       "\n",
       "    .dataframe thead th {\n",
       "        text-align: right;\n",
       "    }\n",
       "</style>\n",
       "<table border=\"1\" class=\"dataframe\">\n",
       "  <thead>\n",
       "    <tr style=\"text-align: right;\">\n",
       "      <th></th>\n",
       "      <th>category</th>\n",
       "      <th>message</th>\n",
       "      <th>subject</th>\n",
       "    </tr>\n",
       "  </thead>\n",
       "  <tbody>\n",
       "    <tr>\n",
       "      <th>797</th>\n",
       "      <td>WSPOLPRACA_ZE_SKLEPEM</td>\n",
       "      <td>Czy są Państwo zainteresowani odebrać oferte n...</td>\n",
       "      <td>Sprawny marketing</td>\n",
       "    </tr>\n",
       "    <tr>\n",
       "      <th>798</th>\n",
       "      <td>FAKTURY</td>\n",
       "      <td>Zapomniałem zaznaczyć opcje faktury czy możeci...</td>\n",
       "      <td>Faktura</td>\n",
       "    </tr>\n",
       "    <tr>\n",
       "      <th>799</th>\n",
       "      <td>INFORMACJE_O_ZAMOWIENIU</td>\n",
       "      <td>Mam pytanie co z naszym zamówieniem. Czy towar...</td>\n",
       "      <td>Pytanie o zamówienie</td>\n",
       "    </tr>\n",
       "  </tbody>\n",
       "</table>\n",
       "</div>"
      ],
      "text/plain": [
       "                    category  \\\n",
       "797    WSPOLPRACA_ZE_SKLEPEM   \n",
       "798                  FAKTURY   \n",
       "799  INFORMACJE_O_ZAMOWIENIU   \n",
       "\n",
       "                                               message               subject  \n",
       "797  Czy są Państwo zainteresowani odebrać oferte n...     Sprawny marketing  \n",
       "798  Zapomniałem zaznaczyć opcje faktury czy możeci...               Faktura  \n",
       "799  Mam pytanie co z naszym zamówieniem. Czy towar...  Pytanie o zamówienie  "
      ]
     },
     "metadata": {},
     "output_type": "display_data"
    },
    {
     "data": {
      "text/plain": [
       "None"
      ]
     },
     "metadata": {},
     "output_type": "display_data"
    }
   ],
   "source": [
    "data_mail = pd.read_csv('emails_invalid.csv')\n",
    "data_mail = data_mail.dropna()\n",
    "\n",
    "data_mail['category'] = data_mail['category'].astype('category')\n",
    "data_mail['subject'] = data_mail['subject'].astype(str)\n",
    "data_mail['message'] = data_mail['message'].astype(str)\n",
    "\n",
    "display(data_mail.tail(3), data_mail.info())"
   ]
  },
  {
   "cell_type": "code",
   "execution_count": 4,
   "metadata": {},
   "outputs": [],
   "source": [
    "# Polish pipeline optimized for CPU.\n",
    "nlp = spacy.load(\"pl_core_news_sm\")\n",
    "\n",
    "def clean_lemma(s):\n",
    "    # Stop list - Exclusion of words with little meaning, i.e. “the”, “is” and “and”.\n",
    "    # Lemmatization - means reducing a group of words that are variations of a given phrase to a common form (e.g. runs, running, ran -> run).\n",
    "    doc = nlp(s)\n",
    "    words = []\n",
    "    for token in doc:\n",
    "        if token.is_alpha and not token.is_stop:\n",
    "            words.append(token.lemma_)\n",
    "    return \" \".join(words)"
   ]
  },
  {
   "cell_type": "markdown",
   "metadata": {},
   "source": [
    "### Stop list and lemantization on data"
   ]
  },
  {
   "cell_type": "code",
   "execution_count": 5,
   "metadata": {},
   "outputs": [],
   "source": [
    "X = data_mail[\"subject\"].apply(clean_lemma) + \" \" + data_mail[\"message\"].apply(clean_lemma)\n",
    "y = data_mail[\"category\"]"
   ]
  },
  {
   "cell_type": "markdown",
   "metadata": {},
   "source": [
    "### Division of data into training (75%) and testing (25%)"
   ]
  },
  {
   "cell_type": "code",
   "execution_count": 6,
   "metadata": {},
   "outputs": [],
   "source": [
    "X_train, X_test, y_train, y_test = train_test_split(X, y, random_state=42)"
   ]
  },
  {
   "cell_type": "markdown",
   "metadata": {},
   "source": [
    "### TF-IDF"
   ]
  },
  {
   "cell_type": "code",
   "execution_count": 7,
   "metadata": {},
   "outputs": [],
   "source": [
    "# TF-IDF is a measure of originality of a word by comparing\n",
    "# the number of times a word appears in a doc with the number\n",
    "# of does the word appears in.\n",
    "vectorizer = TfidfVectorizer()\n",
    "X_train = vectorizer.fit_transform(X_train)\n",
    "X_test = vectorizer.transform(X_test)\n",
    "features = vectorizer.get_feature_names_out()"
   ]
  },
  {
   "cell_type": "markdown",
   "metadata": {},
   "source": [
    "### Training & Testing"
   ]
  },
  {
   "cell_type": "code",
   "execution_count": 8,
   "metadata": {},
   "outputs": [],
   "source": [
    "clf = MultinomialNB().fit(X_train, y_train)\n",
    "y_pred = clf.predict(X_test)"
   ]
  },
  {
   "cell_type": "code",
   "execution_count": 21,
   "metadata": {},
   "outputs": [
    {
     "name": "stdout",
     "output_type": "stream",
     "text": [
      "Accuracy: 100.0%\n"
     ]
    }
   ],
   "source": [
    "print(\"Accuracy: \"+str(accuracy_score(y_test, y_pred)*100)+\"%\")"
   ]
  },
  {
   "cell_type": "markdown",
   "metadata": {},
   "source": [
    "### Compute confusion matrix"
   ]
  },
  {
   "cell_type": "code",
   "execution_count": 22,
   "metadata": {},
   "outputs": [
    {
     "data": {
      "image/png": "[encoded data removed]",
      "text/plain": [
       "<Figure size 432x288 with 2 Axes>"
      ]
     },
     "metadata": {},
     "output_type": "display_data"
    }
   ],
   "source": [
    "unique_label = np.unique([y_test, y_pred])\n",
    "df_cm = pd.DataFrame(\n",
    "    confusion_matrix(y_test, y_pred, labels=unique_label),\n",
    "    index=[\"true:{:}\".format(x) for x in unique_label],\n",
    "    columns=[\"pred:{:}\".format(x) for x in unique_label],\n",
    ")\n",
    "# Display HeatMap\n",
    "sn.set(font_scale=0.7)\n",
    "sn.heatmap(df_cm, annot=True, annot_kws={\"size\": 12})\n",
    "plt.show()"
   ]
  },
  {
   "cell_type": "markdown",
   "metadata": {},
   "source": [
    "### Predicting the category of a new message"
   ]
  },
  {
   "cell_type": "code",
   "execution_count": 53,
   "metadata": {},
   "outputs": [
    {
     "name": "stdout",
     "output_type": "stream",
     "text": [
      "MESSAGE CONTENT:\n",
      "prosić fakture zamówienie\n"
     ]
    },
    {
     "data": {
      "text/html": [
       "<div>\n",
       "<style scoped>\n",
       "    .dataframe tbody tr th:only-of-type {\n",
       "        vertical-align: middle;\n",
       "    }\n",
       "\n",
       "    .dataframe tbody tr th {\n",
       "        vertical-align: top;\n",
       "    }\n",
       "\n",
       "    .dataframe thead th {\n",
       "        text-align: right;\n",
       "    }\n",
       "</style>\n",
       "<table border=\"1\" class=\"dataframe\">\n",
       "  <thead>\n",
       "    <tr style=\"text-align: right;\">\n",
       "      <th></th>\n",
       "      <th>DOSTAWA</th>\n",
       "      <th>FAKTURY</th>\n",
       "      <th>INFORMACJE_O_PRODUKCIE</th>\n",
       "      <th>INFORMACJE_O_ZAMOWIENIU</th>\n",
       "      <th>REKLAMACJA_PRODUKTU</th>\n",
       "      <th>UWAGI_DO_SKLEPU</th>\n",
       "      <th>WSPOLPRACA_ZE_SKLEPEM</th>\n",
       "      <th>ZWROT_PRODUKTU</th>\n",
       "    </tr>\n",
       "  </thead>\n",
       "  <tbody>\n",
       "    <tr>\n",
       "      <th>Matching</th>\n",
       "      <td>0.049267</td>\n",
       "      <td>0.408879</td>\n",
       "      <td>0.041358</td>\n",
       "      <td>0.259149</td>\n",
       "      <td>0.032346</td>\n",
       "      <td>0.038002</td>\n",
       "      <td>0.037658</td>\n",
       "      <td>0.133341</td>\n",
       "    </tr>\n",
       "  </tbody>\n",
       "</table>\n",
       "</div>"
      ],
      "text/plain": [
       "           DOSTAWA   FAKTURY  INFORMACJE_O_PRODUKCIE  INFORMACJE_O_ZAMOWIENIU  \\\n",
       "Matching  0.049267  0.408879                0.041358                 0.259149   \n",
       "\n",
       "          REKLAMACJA_PRODUKTU  UWAGI_DO_SKLEPU  WSPOLPRACA_ZE_SKLEPEM  \\\n",
       "Matching             0.032346         0.038002               0.037658   \n",
       "\n",
       "          ZWROT_PRODUKTU  \n",
       "Matching        0.133341  "
      ]
     },
     "metadata": {},
     "output_type": "display_data"
    },
    {
     "name": "stdout",
     "output_type": "stream",
     "text": [
      "E-mail category:  ['FAKTURY']\n"
     ]
    }
   ],
   "source": [
    "new_email = clean_lemma('Można prosić fakture do zamówienia?')\n",
    "X_new_email = vectorizer.transform([new_email])\n",
    "y_pred_new_email = clf.predict(X_new_email)\n",
    "y_probs = clf.predict_proba(X_new_email)\n",
    "\n",
    "print(\"MESSAGE CONTENT:\\n\"+new_email)\n",
    "result = pd.DataFrame([y_probs[0,:]],columns=unique_label[:],index=['Matching'])\n",
    "display(result)\n",
    "print(\"E-mail category: \",y_pred_new_email)"
   ]
  }
 ],
 "metadata": {
  "kernelspec": {
   "display_name": "Python 3.9.2 64-bit ('env': venv)",
   "language": "python",
   "name": "python3"
  },
  "language_info": {
   "codemirror_mode": {
    "name": "ipython",
    "version": 3
   },
   "file_extension": ".py",
   "mimetype": "text/x-python",
   "name": "python",
   "nbconvert_exporter": "python",
   "pygments_lexer": "ipython3",
   "version": "3.9.2"
  },
  "orig_nbformat": 4,
  "vscode": {
   "interpreter": {
    "hash": "aadb3894289de65753ded94d615f2ab6551331e41c01c78d1491e73b4b8c6f50"
   }
  }
 },
 "nbformat": 4,
 "nbformat_minor": 2
}
